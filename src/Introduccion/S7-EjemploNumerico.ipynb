{
 "cells": [
  {
   "cell_type": "markdown",
   "metadata": {},
   "source": [
    "# Ejercicio"
   ]
  },
  {
   "cell_type": "markdown",
   "metadata": {},
   "source": [
    "## El método de Newton para encontrar la raíces de funciones. "
   ]
  },
  {
   "cell_type": "markdown",
   "metadata": {},
   "source": [
    "El método de Newton es un método iterativo para resolver ecuacones de la forma $f(x)=0$, esto es, encontrar las **raíces** o **ceros** de la función $x^\\ast$ tales que $f(x^\\ast)=0$. Dada una $x_0$ inicial propuesta, we itera sobre la fómula:\n",
    "$$x_{n+1} = x_n - \\frac{f(x_n)}{f'(x_n)}$$"
   ]
  },
  {
   "cell_type": "code",
   "execution_count": null,
   "metadata": {},
   "outputs": [],
   "source": [
    "f(x) = x^2 - 2"
   ]
  },
  {
   "cell_type": "code",
   "execution_count": null,
   "metadata": {},
   "outputs": [],
   "source": [
    "x₀ = 4"
   ]
  },
  {
   "cell_type": "code",
   "execution_count": null,
   "metadata": {},
   "outputs": [],
   "source": [
    "typeof(x₀)"
   ]
  },
  {
   "cell_type": "code",
   "execution_count": null,
   "metadata": {},
   "outputs": [],
   "source": [
    "f′(x) = 2x"
   ]
  },
  {
   "cell_type": "code",
   "execution_count": null,
   "metadata": {},
   "outputs": [],
   "source": [
    "x_1 = x₀ - f(x₀) / f′(x₀)"
   ]
  },
  {
   "cell_type": "code",
   "execution_count": null,
   "metadata": {},
   "outputs": [],
   "source": [
    "1:5"
   ]
  },
  {
   "cell_type": "code",
   "execution_count": null,
   "metadata": {},
   "outputs": [],
   "source": [
    "typeof(1:5)"
   ]
  },
  {
   "cell_type": "code",
   "execution_count": null,
   "metadata": {},
   "outputs": [],
   "source": [
    "v = collect(1:5)"
   ]
  },
  {
   "cell_type": "code",
   "execution_count": null,
   "metadata": {},
   "outputs": [],
   "source": [
    "x_0 = 3\n",
    "x = x_0\n",
    "\n",
    "for i in 1:10\n",
    "    x_new = x - f(x) / f′(x)\n",
    "    println(i, \"\\t\", x_new)\n",
    "    x = x_new\n",
    "end"
   ]
  },
  {
   "cell_type": "code",
   "execution_count": null,
   "metadata": {},
   "outputs": [],
   "source": [
    "x_0 = -3\n",
    "x = x_0\n",
    "\n",
    "for i in 1:10\n",
    "    x_new = x - f(x) / f′(x)\n",
    "    println(i, \"\\t\", x_new)\n",
    "    x = x_new\n",
    "end"
   ]
  },
  {
   "cell_type": "markdown",
   "metadata": {},
   "source": [
    "Quiero inspeccionar la convergencia del método con condionces iniciales dentro del inntervalo $[-5,5]$ incluyendo el tamaño del paso dentro del rango, tal vez $0.1$. "
   ]
  },
  {
   "cell_type": "code",
   "execution_count": null,
   "metadata": {},
   "outputs": [],
   "source": [
    "initial_conditions = -5:0.1:5"
   ]
  },
  {
   "cell_type": "code",
   "execution_count": null,
   "metadata": {},
   "outputs": [],
   "source": [
    "initial_conditions"
   ]
  },
  {
   "cell_type": "code",
   "execution_count": null,
   "metadata": {},
   "outputs": [],
   "source": [
    "collect(initial_conditions)"
   ]
  },
  {
   "cell_type": "code",
   "execution_count": null,
   "metadata": {},
   "outputs": [],
   "source": [
    "show(collect(initial_conditions))"
   ]
  },
  {
   "cell_type": "code",
   "execution_count": null,
   "metadata": {},
   "outputs": [],
   "source": [
    "enumerate(initial_conditions)"
   ]
  },
  {
   "cell_type": "code",
   "execution_count": null,
   "metadata": {},
   "outputs": [],
   "source": [
    "raices = similar(initial_conditions)"
   ]
  },
  {
   "cell_type": "code",
   "execution_count": null,
   "metadata": {},
   "outputs": [],
   "source": [
    "for (j, x_0) in enumerate(initial_conditions)\n",
    "    x = x_0\n",
    "    \n",
    "    for i in 1:100\n",
    "        x = x - f(x) / f′(x)\n",
    "    end\n",
    "    \n",
    "    raices[j]= x   \n",
    "end"
   ]
  },
  {
   "cell_type": "code",
   "execution_count": null,
   "metadata": {},
   "outputs": [],
   "source": [
    "show(raices)"
   ]
  },
  {
   "cell_type": "code",
   "execution_count": null,
   "metadata": {},
   "outputs": [],
   "source": [
    "@time begin\n",
    "    initial_conditions = -100:0.01:100\n",
    "    raices = similar(initial_conditions)\n",
    "    \n",
    "    for (j, x_0) in enumerate(initial_conditions)\n",
    "    x = x_0\n",
    "    \n",
    "      for i in 1:100\n",
    "        x = x - f(x) / f′(x)\n",
    "      end\n",
    "    \n",
    "    raices[j]= x   \n",
    "    end\n",
    "    \n",
    "end"
   ]
  },
  {
   "cell_type": "code",
   "execution_count": null,
   "metadata": {},
   "outputs": [],
   "source": [
    "#using Pkg\n",
    "#Pkg.add(\"PyPlot\")\n",
    "using PyPlot"
   ]
  },
  {
   "cell_type": "code",
   "execution_count": null,
   "metadata": {},
   "outputs": [],
   "source": [
    "figure(figsize = (6,4))\n",
    "plot(initial_conditions, raices, \"b.\")"
   ]
  },
  {
   "cell_type": "code",
   "execution_count": null,
   "metadata": {},
   "outputs": [],
   "source": [
    "function calcula_raices()\n",
    "    \n",
    "    initial_conditions = -100:0.01:100\n",
    "    raices = similar(initial_conditions)\n",
    "    \n",
    "    for (j, x_0) in enumerate(initial_conditions)\n",
    "     x = x_0\n",
    "    \n",
    "      for i in 1:100\n",
    "        x = x - f(x) / f′(x)\n",
    "      end\n",
    "    \n",
    "    raices[j]= x   \n",
    "    end\n",
    "    \n",
    "    return raices\n",
    "    \n",
    "end"
   ]
  },
  {
   "cell_type": "code",
   "execution_count": null,
   "metadata": {},
   "outputs": [],
   "source": [
    "myroots = calcula_raices()"
   ]
  },
  {
   "cell_type": "code",
   "execution_count": null,
   "metadata": {},
   "outputs": [],
   "source": [
    "typeof(ans)"
   ]
  },
  {
   "cell_type": "code",
   "execution_count": null,
   "metadata": {},
   "outputs": [],
   "source": [
    "@time myroots = calcula_raices()\n",
    "@time myroots = calcula_raices()"
   ]
  },
  {
   "cell_type": "code",
   "execution_count": null,
   "metadata": {},
   "outputs": [],
   "source": [
    "function calcula_raices(f, f′)\n",
    "    \n",
    "    initial_conditions = -100:0.01:100\n",
    "    raices = similar(initial_conditions)\n",
    "    \n",
    "    for (j, x_0) in enumerate(initial_conditions)\n",
    "     x = x_0\n",
    "    \n",
    "      for i in 1:100\n",
    "        x = x - f(x) / f′(x)\n",
    "      end\n",
    "    \n",
    "    raices[j]= x   \n",
    "    end\n",
    "    \n",
    "    return raices\n",
    "    \n",
    "end"
   ]
  },
  {
   "cell_type": "code",
   "execution_count": null,
   "metadata": {},
   "outputs": [],
   "source": [
    "methods(calcula_raices)"
   ]
  },
  {
   "cell_type": "code",
   "execution_count": null,
   "metadata": {},
   "outputs": [],
   "source": [
    "@time calcula_raices(f, f′);"
   ]
  },
  {
   "cell_type": "code",
   "execution_count": null,
   "metadata": {},
   "outputs": [],
   "source": [
    "@time calcula_raices(f, f′);"
   ]
  },
  {
   "cell_type": "code",
   "execution_count": null,
   "metadata": {},
   "outputs": [],
   "source": [
    "@time myroots = calcula_raices(x->(x-1)*(x-2)*(x-3), x-> 3x^2 - 12x + 11);"
   ]
  },
  {
   "cell_type": "code",
   "execution_count": null,
   "metadata": {},
   "outputs": [],
   "source": [
    "figure(figsize=(6,4))\n",
    "plot(-100:0.01:100, myroots)"
   ]
  },
  {
   "cell_type": "markdown",
   "metadata": {},
   "source": [
    "### Método de Nuewton para funciones complejas"
   ]
  },
  {
   "cell_type": "markdown",
   "metadata": {},
   "source": [
    "El resultado anterior es muy aburrido. Vamos a diseñar un nuevo ejercicio que haga que el método de Newton funcione algo más interesante, digamos que utilizaremos números complejos.\n",
    "\n",
    "Intentaremos aplicar el método de Newton comenzando con condiciones iniciales distribuidas en el plano complejo, esto es pares de la forma $a+bi$ donde $i=\\sqrt{-1}$. Antes que otra cosa, vamos a ver como maneja Julia los números complejos:"
   ]
  },
  {
   "cell_type": "code",
   "execution_count": null,
   "metadata": {},
   "outputs": [],
   "source": [
    "sqrt(-1) #error"
   ]
  },
  {
   "cell_type": "code",
   "execution_count": null,
   "metadata": {},
   "outputs": [],
   "source": [
    "subtypes(Real)"
   ]
  },
  {
   "cell_type": "markdown",
   "metadata": {},
   "source": [
    "Vemos que los tipos tienen funciones asociados a ellos con el mismo nombre, las cuales sirven como *constructores* to hacer objetos de este tipo. Construyamos un número complejo:"
   ]
  },
  {
   "cell_type": "code",
   "execution_count": null,
   "metadata": {},
   "outputs": [],
   "source": [
    "Complex(3)"
   ]
  },
  {
   "cell_type": "code",
   "execution_count": null,
   "metadata": {},
   "outputs": [],
   "source": [
    "a = Complex(3)\n",
    "typeof(a)"
   ]
  },
  {
   "cell_type": "code",
   "execution_count": null,
   "metadata": {},
   "outputs": [],
   "source": [
    "b = Complex(3, 4.5)\n",
    "b"
   ]
  },
  {
   "cell_type": "markdown",
   "metadata": {},
   "source": [
    "Vamos a crear una matriz para guardar números complejos:"
   ]
  },
  {
   "cell_type": "code",
   "execution_count": null,
   "metadata": {},
   "outputs": [],
   "source": [
    "# por medio de un ciclo creamos valores\n",
    "for i in -2:1, j in -2:1\n",
    "        println(\"($i, $j)\")\n",
    "end"
   ]
  },
  {
   "cell_type": "markdown",
   "metadata": {},
   "source": [
    "Una forma sencilla de generar una matriz es con la función `zeros()`:"
   ]
  },
  {
   "cell_type": "code",
   "execution_count": null,
   "metadata": {},
   "outputs": [],
   "source": [
    "zeros(3)"
   ]
  },
  {
   "cell_type": "code",
   "execution_count": null,
   "metadata": {},
   "outputs": [],
   "source": [
    "zeros(3,3)"
   ]
  },
  {
   "cell_type": "code",
   "execution_count": null,
   "metadata": {},
   "outputs": [],
   "source": [
    "size(ans)"
   ]
  },
  {
   "cell_type": "code",
   "execution_count": null,
   "metadata": {},
   "outputs": [],
   "source": [
    "linear_initial_conditions = -5:0.1:5\n",
    "L = length(linear_initial_conditions)\n",
    "myroots = zeros(L,L)"
   ]
  },
  {
   "cell_type": "code",
   "execution_count": null,
   "metadata": {},
   "outputs": [],
   "source": [
    "myroots[1,1] = 3 + 4im #error"
   ]
  },
  {
   "cell_type": "markdown",
   "metadata": {},
   "source": [
    "El error que obtenemos `InexactError` se refiere a la imposibilidad de colocar un dato dentro de un elemento de objeto con tipo de dato más pequeño, por ejemplo un `Float64` dentro de un `Int64`, en este caso un `Complex` dento de un `Float`. Debemos, en su lugar, crear una matriz que aloje números complejos."
   ]
  },
  {
   "cell_type": "code",
   "execution_count": null,
   "metadata": {},
   "outputs": [],
   "source": [
    "linear_initial_conditions = -5:0.1:5\n",
    "L = length(linear_initial_conditions)\n",
    "myroots = zeros(ComplexF64, L,L)"
   ]
  },
  {
   "cell_type": "code",
   "execution_count": null,
   "metadata": {},
   "outputs": [],
   "source": [
    "?Complex"
   ]
  },
  {
   "cell_type": "code",
   "execution_count": null,
   "metadata": {},
   "outputs": [],
   "source": [
    "myroots[1,1] = 3 + 4im # funciona"
   ]
  },
  {
   "cell_type": "markdown",
   "metadata": {},
   "source": [
    "Ahora estamos listos para hacer la versión del método de Newton para que reciba funciones complejas. Vamos a intentar encontrar raíces cúbicas de 1 en el plano complejo, al encontrar los ceros de la función:"
   ]
  },
  {
   "cell_type": "code",
   "execution_count": null,
   "metadata": {},
   "outputs": [],
   "source": [
    "f(z) = z^3 - 1"
   ]
  },
  {
   "cell_type": "code",
   "execution_count": null,
   "metadata": {},
   "outputs": [],
   "source": [
    "f(3)"
   ]
  },
  {
   "cell_type": "code",
   "execution_count": null,
   "metadata": {},
   "outputs": [],
   "source": [
    "f(3 + 4im)"
   ]
  },
  {
   "cell_type": "markdown",
   "metadata": {},
   "source": [
    "con derivada:"
   ]
  },
  {
   "cell_type": "code",
   "execution_count": null,
   "metadata": {},
   "outputs": [],
   "source": [
    "f′(z) = 3z^2"
   ]
  },
  {
   "cell_type": "code",
   "execution_count": null,
   "metadata": {},
   "outputs": [],
   "source": [
    "f′(3)"
   ]
  },
  {
   "cell_type": "code",
   "execution_count": null,
   "metadata": {},
   "outputs": [],
   "source": [
    "f′(3 + 4im)"
   ]
  },
  {
   "cell_type": "code",
   "execution_count": null,
   "metadata": {},
   "outputs": [],
   "source": [
    "function do_complex_roots(range = 5:0.1:5) # default value\n",
    "    \n",
    "    L = length(range)\n",
    "    roots = zeros(ComplexF64, L, L) \n",
    "    \n",
    "    for(i, x) in enumerate(range)\n",
    "        for(j, y) in enumerate(range)\n",
    "            \n",
    "            z = x + y*im\n",
    "    \n",
    "            for k in 1:100\n",
    "                z = z - f(z) / f′(z)\n",
    "            end\n",
    "            \n",
    "            roots[i,j] = z   \n",
    "        end        \n",
    "    \n",
    "    end\n",
    "    \n",
    "    roots   \n",
    "end"
   ]
  },
  {
   "cell_type": "code",
   "execution_count": null,
   "metadata": {},
   "outputs": [],
   "source": [
    "roots = do_complex_roots(-5:0.1:5)"
   ]
  },
  {
   "cell_type": "code",
   "execution_count": null,
   "metadata": {},
   "outputs": [],
   "source": [
    "using PyPlot"
   ]
  },
  {
   "cell_type": "code",
   "execution_count": null,
   "metadata": {},
   "outputs": [],
   "source": [
    "imshow(imag(roots))"
   ]
  },
  {
   "cell_type": "code",
   "execution_count": null,
   "metadata": {},
   "outputs": [],
   "source": [
    "?imag"
   ]
  },
  {
   "cell_type": "code",
   "execution_count": null,
   "metadata": {},
   "outputs": [],
   "source": [
    "?imshow"
   ]
  },
  {
   "cell_type": "markdown",
   "metadata": {},
   "source": [
    "Julia utiliza almacenamiento con preferencia en columna (*column-major storage*), lo cual hace que los **cálculos por columna sea mucho más rápidos** que por renglón (en Python sucede lo contrario).\n",
    "\n",
    "Cambiemos los ejes para tener mejor comprensión del gráfico obtenido...  "
   ]
  },
  {
   "cell_type": "code",
   "execution_count": null,
   "metadata": {},
   "outputs": [],
   "source": [
    "imshow(imag(do_complex_roots(-3:0.01:3)))"
   ]
  },
  {
   "cell_type": "code",
   "execution_count": null,
   "metadata": {},
   "outputs": [],
   "source": [
    "using Pkg\n",
    "Pkg.add(\"LaTeXStrings\")"
   ]
  },
  {
   "cell_type": "code",
   "execution_count": null,
   "metadata": {},
   "outputs": [],
   "source": [
    "using LaTeXStrings"
   ]
  },
  {
   "cell_type": "code",
   "execution_count": null,
   "metadata": {},
   "outputs": [],
   "source": [
    "imshow(imag(do_complex_roots(-3:0.01:3)), extent=(-2, 2, -2, 2), cmap=\"PuBu\")\n",
    "text(1, 0, L\"1\")\n",
    "text(reim(exp(2π*im/3))..., L\"e^{2\\frac{\\pi}{3}}\")\n",
    "text(reim(exp(-2π*im/3))..., L\"e^{-2\\frac{\\pi}{3}}\")"
   ]
  },
  {
   "cell_type": "code",
   "execution_count": null,
   "metadata": {},
   "outputs": [],
   "source": []
  }
 ],
 "metadata": {
  "@webio": {
   "lastCommId": null,
   "lastKernelId": null
  },
  "kernelspec": {
   "display_name": "Julia 1.6.2",
   "language": "julia",
   "name": "julia-1.6"
  },
  "language_info": {
   "file_extension": ".jl",
   "mimetype": "application/julia",
   "name": "julia",
   "version": "1.6.2"
  }
 },
 "nbformat": 4,
 "nbformat_minor": 4
}
